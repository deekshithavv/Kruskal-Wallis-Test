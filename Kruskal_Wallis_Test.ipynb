{
  "nbformat": 4,
  "nbformat_minor": 0,
  "metadata": {
    "colab": {
      "provenance": []
    },
    "kernelspec": {
      "name": "python3",
      "display_name": "Python 3"
    },
    "language_info": {
      "name": "python"
    }
  },
  "cells": [
    {
      "cell_type": "code",
      "execution_count": null,
      "metadata": {
        "colab": {
          "base_uri": "https://localhost:8080/"
        },
        "id": "3_TF1dezb9mZ",
        "outputId": "219a7af0-6986-47a3-97b7-dd791aa3f4a8"
      },
      "outputs": [
        {
          "output_type": "execute_result",
          "data": {
            "text/plain": [
              "(KruskalResult(statistic=12.963284847375975, pvalue=0.0015312935799694906),\n",
              " KruskalResult(statistic=3.5059103109261263, pvalue=0.1732611724642767))"
            ]
          },
          "metadata": {},
          "execution_count": 1
        }
      ],
      "source": [
        "from scipy.stats import kruskal\n",
        "\n",
        "# Kids Group\n",
        "neutral_video_kids = [3, 1, 1, 1, 2, 1, 1, 1, 1, 1, 1, 1, 1, 1, 1, 3, 1]\n",
        "second_video_kids = [3, 2, 1, 2, 3, 1, 2, 1, 2, 1, 3, 1, 2, 3, 1, 2, 2]\n",
        "third_video_kids = [5, 3, 2, 3, 3, 1, 1, 2, 1, 2, 1, 3, 4, 4, 2, 3, 4]\n",
        "\n",
        "# Adults Group\n",
        "neutral_adults = [3, 2, 4, 3, 1, 4, 1, 2, 2, 1, 5, 1, 5, 2, 1, 1, 5, 1, 1, 1, 3]\n",
        "positive_adults = [4, 4, 2, 3, 3, 4, 3, 3, 3, 3, 5, 1, 4, 1, 1, 1, 5, 4, 3, 4, 3]\n",
        "negative_adults = [3, 5, 3, 1, 4, 4, 2, 2, 5, 1, 5, 3, 4, 1, 1, 1, 5, 4, 3, 4, 3]\n",
        "\n",
        "# Perform Kruskal-Wallis test\n",
        "kruskal_kids = kruskal(neutral_video_kids, second_video_kids, third_video_kids)\n",
        "kruskal_adults = kruskal(neutral_adults, positive_adults, negative_adults)\n",
        "\n",
        "kruskal_kids, kruskal_adults\n"
      ]
    }
  ]
}